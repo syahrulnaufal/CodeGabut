{
  "nbformat": 4,
  "nbformat_minor": 0,
  "metadata": {
    "colab": {
      "provenance": [],
      "authorship_tag": "ABX9TyMSn/adG1IfTLi5OGxXPzP4",
      "include_colab_link": true
    },
    "kernelspec": {
      "name": "python3",
      "display_name": "Python 3"
    },
    "language_info": {
      "name": "python"
    }
  },
  "cells": [
    {
      "cell_type": "markdown",
      "metadata": {
        "id": "view-in-github",
        "colab_type": "text"
      },
      "source": [
        "<a href=\"https://colab.research.google.com/github/syahrulnaufal/CodeGabut/blob/main/TI_B_SyahrulNaufal_Job9.ipynb\" target=\"_parent\"><img src=\"https://colab.research.google.com/assets/colab-badge.svg\" alt=\"Open In Colab\"/></a>"
      ]
    },
    {
      "cell_type": "code",
      "source": [
        "mahasiswa = [\n",
        "(\"Winda\", [\"Dasprog\", \"Orgkom\"]),\n",
        "(\"Jhony\", [\"Dasprog\", \"Orgkom\", \"SisDat\"]),\n",
        "(\"Tyas\", [\"SisDat\", \"Sistem Operasi\", \"Basis Data\", \"OO\"]),\n",
        "(\"Hana\", [\"Web\", \"Sistem Operasi\", \"Basis Data\", \"OO\"]),\n",
        "(\"Hafidz\", [\"Web\", \"IoT\", \"Mikroprosessor\", \"Digital\", \"Dasprog\"])]\n",
        "\n",
        "jumlah = 0\n",
        "\n",
        "for (nama, makul) in mahasiswa:\n",
        "    if \"Dasprog\" in makul:\n",
        "        jumlah += 1\n",
        "        print(\"Mata kuliah Dasprog diambil\", jumlah, \"mahasiswa\")"
      ],
      "metadata": {
        "colab": {
          "base_uri": "https://localhost:8080/"
        },
        "id": "g6PKykHV-rGy",
        "outputId": "660e5a31-e946-4aa0-bb2d-1807c44c0d83"
      },
      "execution_count": 1,
      "outputs": [
        {
          "output_type": "stream",
          "name": "stdout",
          "text": [
            "Mata kuliah Dasprog diambil 1 mahasiswa\n",
            "Mata kuliah Dasprog diambil 2 mahasiswa\n",
            "Mata kuliah Dasprog diambil 3 mahasiswa\n"
          ]
        }
      ]
    },
    {
      "cell_type": "code",
      "source": [
        "angka = [20, 8, 35, 12, 17, 66, 21]\n",
        "i = 0\n",
        "terbesar = 0\n",
        "while i <= 6:\n",
        "  if angka[i]>terbesar:\n",
        "    terbesar = angka[i]\n",
        "    i += 1\n",
        "print(\"Angka terbesar adalah\",terbesar)"
      ],
      "metadata": {
        "id": "h_KxZEBM-1pn"
      },
      "execution_count": null,
      "outputs": []
    }
  ]
}